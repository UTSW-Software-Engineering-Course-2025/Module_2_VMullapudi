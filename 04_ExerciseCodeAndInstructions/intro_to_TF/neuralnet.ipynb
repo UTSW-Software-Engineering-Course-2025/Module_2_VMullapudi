{
 "cells": [
  {
   "cell_type": "code",
   "execution_count": 1,
   "id": "c287f09d",
   "metadata": {},
   "outputs": [
    {
     "name": "stdout",
     "output_type": "stream",
     "text": [
      "env: CUDA_VISIBLE_DEVICES=1\n"
     ]
    },
    {
     "name": "stderr",
     "output_type": "stream",
     "text": [
      "2025-05-27 11:28:56.542416: E external/local_xla/xla/stream_executor/cuda/cuda_fft.cc:467] Unable to register cuFFT factory: Attempting to register factory for plugin cuFFT when one has already been registered\n",
      "WARNING: All log messages before absl::InitializeLog() is called are written to STDERR\n",
      "E0000 00:00:1748363336.565150   32493 cuda_dnn.cc:8579] Unable to register cuDNN factory: Attempting to register factory for plugin cuDNN when one has already been registered\n",
      "E0000 00:00:1748363336.572133   32493 cuda_blas.cc:1407] Unable to register cuBLAS factory: Attempting to register factory for plugin cuBLAS when one has already been registered\n",
      "W0000 00:00:1748363336.589849   32493 computation_placer.cc:177] computation placer already registered. Please check linkage and avoid linking the same target more than once.\n",
      "W0000 00:00:1748363336.589865   32493 computation_placer.cc:177] computation placer already registered. Please check linkage and avoid linking the same target more than once.\n",
      "W0000 00:00:1748363336.589868   32493 computation_placer.cc:177] computation placer already registered. Please check linkage and avoid linking the same target more than once.\n",
      "W0000 00:00:1748363336.589869   32493 computation_placer.cc:177] computation placer already registered. Please check linkage and avoid linking the same target more than once.\n",
      "2025-05-27 11:28:56.596383: I tensorflow/core/platform/cpu_feature_guard.cc:210] This TensorFlow binary is optimized to use available CPU instructions in performance-critical operations.\n",
      "To enable the following instructions: AVX2 FMA, in other operations, rebuild TensorFlow with the appropriate compiler flags.\n"
     ]
    },
    {
     "name": "stdout",
     "output_type": "stream",
     "text": [
      "[PhysicalDevice(name='/physical_device:GPU:0', device_type='GPU')]\n"
     ]
    }
   ],
   "source": [
    "%set_env CUDA_VISIBLE_DEVICES=1\n",
    "import os\n",
    "import tensorflow as tf\n",
    "from tensorflow import keras\n",
    "from tensorflow.keras import layers\n",
    "from tensorflow.keras.datasets import mnist\n",
    "\n",
    "print(tf.config.list_physical_devices(\"GPU\"))\n"
   ]
  },
  {
   "cell_type": "code",
   "execution_count": 2,
   "id": "adc265b7",
   "metadata": {},
   "outputs": [],
   "source": [
    "# load and prepare data for training\n",
    "(x_train, y_train), (x_test, y_test) = mnist.load_data()\n",
    "x_train = x_train.reshape(-1, 28 * 28).astype(\"float32\") / 255.0\n",
    "x_test = x_test.reshape(-1, 28 * 28).astype(\"float32\") / 255.0\n"
   ]
  },
  {
   "attachments": {},
   "cell_type": "markdown",
   "id": "350fbab3",
   "metadata": {},
   "source": [
    "## Dense Feed Forward Neural Networks (DFNNs)  also known as multi-layer perceptrons(MLPs)\n",
    "* well suited for inferencing from tabular data"
   ]
  },
  {
   "attachments": {},
   "cell_type": "markdown",
   "id": "db8118db",
   "metadata": {},
   "source": [
    "### Construct DFNN model using Sequential API  \n",
    "* simple interface\n",
    "* limited functionality"
   ]
  },
  {
   "cell_type": "code",
   "execution_count": null,
   "id": "c343812c",
   "metadata": {},
   "outputs": [
    {
     "name": "stderr",
     "output_type": "stream",
     "text": [
      "I0000 00:00:1748363341.205908   32493 gpu_device.cc:2019] Created device /job:localhost/replica:0/task:0/device:GPU:0 with 15506 MB memory:  -> device: 0, name: Tesla P100-PCIE-16GB, pci bus id: 0000:82:00.0, compute capability: 6.0\n"
     ]
    }
   ],
   "source": [
    "# Sequential API (Very convenient, not very flexible)\n",
    "modelDFNN1 = keras.Sequential(\n",
    "    [\n",
    "        keras.Input(shape=((28 * 28),), name=\"input_layer\"),\n",
    "        layers.Dense(512, activation=\"relu\", name=\"dense_layer1\"),\n",
    "        layers.Dense(256, activation=\"relu\", name=\"dense_layer2\"),\n",
    "        layers.Dense(\n",
    "            10, activation=\"softmax\", name=\"output_layer\"\n",
    "        ),  # added softmax here because crossentropy has fromlogits=False\n",
    "    ]\n",
    ")\n",
    "\n",
    "# modelDFNN1 = keras.Sequential()\n",
    "# modelDFNN1.add(keras.Input(shape=(784,)))\n",
    "# modelDFNN1.add(layers.Dense(512, activation=\"relu\"))\n",
    "# modelDFNN1.add(layers.Dense(256, activation=\"relu\", name=\"my_layer\"))\n",
    "# modelDFNN1.add(layers.Dense(10))\n"
   ]
  },
  {
   "cell_type": "code",
   "execution_count": 4,
   "id": "4d6c1f9c",
   "metadata": {},
   "outputs": [
    {
     "data": {
      "text/html": [
       "<pre style=\"white-space:pre;overflow-x:auto;line-height:normal;font-family:Menlo,'DejaVu Sans Mono',consolas,'Courier New',monospace\"><span style=\"font-weight: bold\">Model: \"sequential\"</span>\n",
       "</pre>\n"
      ],
      "text/plain": [
       "\u001b[1mModel: \"sequential\"\u001b[0m\n"
      ]
     },
     "metadata": {},
     "output_type": "display_data"
    },
    {
     "data": {
      "text/html": [
       "<pre style=\"white-space:pre;overflow-x:auto;line-height:normal;font-family:Menlo,'DejaVu Sans Mono',consolas,'Courier New',monospace\">┏━━━━━━━━━━━━━━━━━━━━━━━━━━━━━━━━━┳━━━━━━━━━━━━━━━━━━━━━━━━┳━━━━━━━━━━━━━━━┓\n",
       "┃<span style=\"font-weight: bold\"> Layer (type)                    </span>┃<span style=\"font-weight: bold\"> Output Shape           </span>┃<span style=\"font-weight: bold\">       Param # </span>┃\n",
       "┡━━━━━━━━━━━━━━━━━━━━━━━━━━━━━━━━━╇━━━━━━━━━━━━━━━━━━━━━━━━╇━━━━━━━━━━━━━━━┩\n",
       "│ dense_layer1 (<span style=\"color: #0087ff; text-decoration-color: #0087ff\">Dense</span>)            │ (<span style=\"color: #00d7ff; text-decoration-color: #00d7ff\">None</span>, <span style=\"color: #00af00; text-decoration-color: #00af00\">512</span>)            │       <span style=\"color: #00af00; text-decoration-color: #00af00\">401,920</span> │\n",
       "├─────────────────────────────────┼────────────────────────┼───────────────┤\n",
       "│ dense_layer2 (<span style=\"color: #0087ff; text-decoration-color: #0087ff\">Dense</span>)            │ (<span style=\"color: #00d7ff; text-decoration-color: #00d7ff\">None</span>, <span style=\"color: #00af00; text-decoration-color: #00af00\">256</span>)            │       <span style=\"color: #00af00; text-decoration-color: #00af00\">131,328</span> │\n",
       "├─────────────────────────────────┼────────────────────────┼───────────────┤\n",
       "│ output_layer (<span style=\"color: #0087ff; text-decoration-color: #0087ff\">Dense</span>)            │ (<span style=\"color: #00d7ff; text-decoration-color: #00d7ff\">None</span>, <span style=\"color: #00af00; text-decoration-color: #00af00\">10</span>)             │         <span style=\"color: #00af00; text-decoration-color: #00af00\">2,570</span> │\n",
       "└─────────────────────────────────┴────────────────────────┴───────────────┘\n",
       "</pre>\n"
      ],
      "text/plain": [
       "┏━━━━━━━━━━━━━━━━━━━━━━━━━━━━━━━━━┳━━━━━━━━━━━━━━━━━━━━━━━━┳━━━━━━━━━━━━━━━┓\n",
       "┃\u001b[1m \u001b[0m\u001b[1mLayer (type)                   \u001b[0m\u001b[1m \u001b[0m┃\u001b[1m \u001b[0m\u001b[1mOutput Shape          \u001b[0m\u001b[1m \u001b[0m┃\u001b[1m \u001b[0m\u001b[1m      Param #\u001b[0m\u001b[1m \u001b[0m┃\n",
       "┡━━━━━━━━━━━━━━━━━━━━━━━━━━━━━━━━━╇━━━━━━━━━━━━━━━━━━━━━━━━╇━━━━━━━━━━━━━━━┩\n",
       "│ dense_layer1 (\u001b[38;5;33mDense\u001b[0m)            │ (\u001b[38;5;45mNone\u001b[0m, \u001b[38;5;34m512\u001b[0m)            │       \u001b[38;5;34m401,920\u001b[0m │\n",
       "├─────────────────────────────────┼────────────────────────┼───────────────┤\n",
       "│ dense_layer2 (\u001b[38;5;33mDense\u001b[0m)            │ (\u001b[38;5;45mNone\u001b[0m, \u001b[38;5;34m256\u001b[0m)            │       \u001b[38;5;34m131,328\u001b[0m │\n",
       "├─────────────────────────────────┼────────────────────────┼───────────────┤\n",
       "│ output_layer (\u001b[38;5;33mDense\u001b[0m)            │ (\u001b[38;5;45mNone\u001b[0m, \u001b[38;5;34m10\u001b[0m)             │         \u001b[38;5;34m2,570\u001b[0m │\n",
       "└─────────────────────────────────┴────────────────────────┴───────────────┘\n"
      ]
     },
     "metadata": {},
     "output_type": "display_data"
    },
    {
     "data": {
      "text/html": [
       "<pre style=\"white-space:pre;overflow-x:auto;line-height:normal;font-family:Menlo,'DejaVu Sans Mono',consolas,'Courier New',monospace\"><span style=\"font-weight: bold\"> Total params: </span><span style=\"color: #00af00; text-decoration-color: #00af00\">535,818</span> (2.04 MB)\n",
       "</pre>\n"
      ],
      "text/plain": [
       "\u001b[1m Total params: \u001b[0m\u001b[38;5;34m535,818\u001b[0m (2.04 MB)\n"
      ]
     },
     "metadata": {},
     "output_type": "display_data"
    },
    {
     "data": {
      "text/html": [
       "<pre style=\"white-space:pre;overflow-x:auto;line-height:normal;font-family:Menlo,'DejaVu Sans Mono',consolas,'Courier New',monospace\"><span style=\"font-weight: bold\"> Trainable params: </span><span style=\"color: #00af00; text-decoration-color: #00af00\">535,818</span> (2.04 MB)\n",
       "</pre>\n"
      ],
      "text/plain": [
       "\u001b[1m Trainable params: \u001b[0m\u001b[38;5;34m535,818\u001b[0m (2.04 MB)\n"
      ]
     },
     "metadata": {},
     "output_type": "display_data"
    },
    {
     "data": {
      "text/html": [
       "<pre style=\"white-space:pre;overflow-x:auto;line-height:normal;font-family:Menlo,'DejaVu Sans Mono',consolas,'Courier New',monospace\"><span style=\"font-weight: bold\"> Non-trainable params: </span><span style=\"color: #00af00; text-decoration-color: #00af00\">0</span> (0.00 B)\n",
       "</pre>\n"
      ],
      "text/plain": [
       "\u001b[1m Non-trainable params: \u001b[0m\u001b[38;5;34m0\u001b[0m (0.00 B)\n"
      ]
     },
     "metadata": {},
     "output_type": "display_data"
    }
   ],
   "source": [
    "# ToDo #1: List what objects the modelDFNN1 is comprised of (built from)\n",
    "modelDFNN1.summary()\n"
   ]
  },
  {
   "cell_type": "code",
   "execution_count": 5,
   "id": "f1c00633",
   "metadata": {},
   "outputs": [],
   "source": [
    "modelDFNN1.compile(\n",
    "    loss=keras.losses.SparseCategoricalCrossentropy(from_logits=False),\n",
    "    optimizer=keras.optimizers.Adam(learning_rate=0.001),\n",
    "    metrics=[\"accuracy\"],\n",
    ")\n"
   ]
  },
  {
   "cell_type": "code",
   "execution_count": 6,
   "id": "325b0a75",
   "metadata": {},
   "outputs": [
    {
     "name": "stdout",
     "output_type": "stream",
     "text": [
      "Epoch 1/5\n"
     ]
    },
    {
     "name": "stderr",
     "output_type": "stream",
     "text": [
      "WARNING: All log messages before absl::InitializeLog() is called are written to STDERR\n",
      "I0000 00:00:1748363343.464107   32765 service.cc:152] XLA service 0x2aae80003f70 initialized for platform CUDA (this does not guarantee that XLA will be used). Devices:\n",
      "I0000 00:00:1748363343.464143   32765 service.cc:160]   StreamExecutor device (0): Tesla P100-PCIE-16GB, Compute Capability 6.0\n",
      "2025-05-27 11:29:03.493844: I tensorflow/compiler/mlir/tensorflow/utils/dump_mlir_util.cc:269] disabling MLIR crash reproducer, set env var `MLIR_CRASH_REPRODUCER_DIRECTORY` to enable.\n",
      "I0000 00:00:1748363343.635206   32765 cuda_dnn.cc:529] Loaded cuDNN version 90300\n",
      "I0000 00:00:1748363344.273650   32765 device_compiler.h:188] Compiled cluster using XLA!  This line is logged at most once for the lifetime of the process.\n"
     ]
    },
    {
     "name": "stdout",
     "output_type": "stream",
     "text": [
      "1875/1875 - 5s - 2ms/step - accuracy: 0.9427 - loss: 0.1871\n",
      "Epoch 2/5\n",
      "1875/1875 - 3s - 2ms/step - accuracy: 0.9754 - loss: 0.0791\n",
      "Epoch 3/5\n",
      "1875/1875 - 3s - 2ms/step - accuracy: 0.9820 - loss: 0.0560\n",
      "Epoch 4/5\n",
      "1875/1875 - 3s - 2ms/step - accuracy: 0.9866 - loss: 0.0414\n",
      "Epoch 5/5\n",
      "1875/1875 - 3s - 2ms/step - accuracy: 0.9888 - loss: 0.0347\n",
      "313/313 - 1s - 4ms/step - accuracy: 0.9796 - loss: 0.0780\n"
     ]
    },
    {
     "data": {
      "text/plain": [
       "[0.07797699421644211, 0.9796000123023987]"
      ]
     },
     "execution_count": 6,
     "metadata": {},
     "output_type": "execute_result"
    }
   ],
   "source": [
    "modelDFNN1.fit(x_train, y_train, batch_size=32, epochs=5, verbose=2)\n",
    "modelDFNN1.evaluate(x_test, y_test, batch_size=32, verbose=2)\n"
   ]
  },
  {
   "cell_type": "code",
   "execution_count": 7,
   "id": "325b0a75",
   "metadata": {},
   "outputs": [
    {
     "name": "stdout",
     "output_type": "stream",
     "text": [
      "Training Accuracy:  0.9887666702270508\n",
      "Training Loss:  0.03470570221543312\n",
      "Test Accuracy:  0.9796000123023987\n"
     ]
    }
   ],
   "source": [
    "# ToDo #2: What train and test accuracy do you obtain when running for 5 epochs?\n",
    "\n",
    "print(\"Training Accuracy: \", modelDFNN1.history.history[\"accuracy\"][-1])\n",
    "print(\"Training Loss: \", modelDFNN1.history.history[\"loss\"][-1])\n",
    "\n",
    "print(\n",
    "    \"Test Accuracy: \", modelDFNN1.evaluate(x_test, y_test, batch_size=32, verbose=0)[1]\n",
    ")\n"
   ]
  },
  {
   "cell_type": "code",
   "execution_count": 8,
   "id": "0f45161c",
   "metadata": {},
   "outputs": [
    {
     "name": "stdout",
     "output_type": "stream",
     "text": [
      "Epoch 1/20\n",
      "1875/1875 - 3s - 2ms/step - accuracy: 0.9914 - loss: 0.0270\n",
      "Epoch 2/20\n",
      "1875/1875 - 3s - 2ms/step - accuracy: 0.9922 - loss: 0.0234\n",
      "Epoch 3/20\n",
      "1875/1875 - 3s - 2ms/step - accuracy: 0.9931 - loss: 0.0203\n",
      "Epoch 4/20\n",
      "1875/1875 - 3s - 2ms/step - accuracy: 0.9943 - loss: 0.0179\n",
      "Epoch 5/20\n",
      "1875/1875 - 3s - 2ms/step - accuracy: 0.9948 - loss: 0.0164\n",
      "Epoch 6/20\n",
      "1875/1875 - 3s - 2ms/step - accuracy: 0.9949 - loss: 0.0179\n",
      "Epoch 7/20\n",
      "1875/1875 - 3s - 2ms/step - accuracy: 0.9959 - loss: 0.0130\n",
      "Epoch 8/20\n",
      "1875/1875 - 3s - 2ms/step - accuracy: 0.9951 - loss: 0.0166\n",
      "Epoch 9/20\n",
      "1875/1875 - 3s - 2ms/step - accuracy: 0.9962 - loss: 0.0125\n",
      "Epoch 10/20\n",
      "1875/1875 - 3s - 2ms/step - accuracy: 0.9960 - loss: 0.0141\n",
      "Epoch 11/20\n",
      "1875/1875 - 3s - 2ms/step - accuracy: 0.9968 - loss: 0.0108\n",
      "Epoch 12/20\n",
      "1875/1875 - 3s - 2ms/step - accuracy: 0.9968 - loss: 0.0112\n",
      "Epoch 13/20\n",
      "1875/1875 - 3s - 2ms/step - accuracy: 0.9967 - loss: 0.0114\n",
      "Epoch 14/20\n",
      "1875/1875 - 3s - 2ms/step - accuracy: 0.9966 - loss: 0.0120\n",
      "Epoch 15/20\n",
      "1875/1875 - 3s - 2ms/step - accuracy: 0.9973 - loss: 0.0095\n",
      "Epoch 16/20\n",
      "1875/1875 - 3s - 2ms/step - accuracy: 0.9969 - loss: 0.0122\n",
      "Epoch 17/20\n",
      "1875/1875 - 3s - 2ms/step - accuracy: 0.9975 - loss: 0.0099\n",
      "Epoch 18/20\n",
      "1875/1875 - 3s - 2ms/step - accuracy: 0.9976 - loss: 0.0089\n",
      "Epoch 19/20\n",
      "1875/1875 - 3s - 2ms/step - accuracy: 0.9977 - loss: 0.0092\n",
      "Epoch 20/20\n",
      "1875/1875 - 3s - 2ms/step - accuracy: 0.9977 - loss: 0.0096\n"
     ]
    },
    {
     "data": {
      "text/plain": [
       "<keras.src.callbacks.history.History at 0x2aab203a4110>"
      ]
     },
     "execution_count": 8,
     "metadata": {},
     "output_type": "execute_result"
    }
   ],
   "source": [
    "# ToDo #3: Now write code (add code cells to this notebook) to train the model for 20 additional epochs. What train and test accuracy do you obtain?\n",
    "\n",
    "modelDFNN1.fit(x_train, y_train, batch_size=32, epochs=20, verbose=2)\n"
   ]
  },
  {
   "cell_type": "code",
   "execution_count": 9,
   "id": "54f4d6a2",
   "metadata": {},
   "outputs": [
    {
     "name": "stdout",
     "output_type": "stream",
     "text": [
      "Training Accuracy after 20 additional epochs:  0.9976833462715149\n",
      "Training Loss after 20 additional epochs:  0.009608685038983822\n",
      "Test Accuracy after 20 additional epochs:  0.98089998960495\n"
     ]
    }
   ],
   "source": [
    "print(\n",
    "    \"Training Accuracy after 20 additional epochs: \",\n",
    "    modelDFNN1.history.history[\"accuracy\"][-1],\n",
    ")\n",
    "print(\n",
    "    \"Training Loss after 20 additional epochs: \", modelDFNN1.history.history[\"loss\"][-1]\n",
    ")\n",
    "print(\n",
    "    \"Test Accuracy after 20 additional epochs: \",\n",
    "    modelDFNN1.evaluate(x_test, y_test, batch_size=32, verbose=0)[1],\n",
    ")\n"
   ]
  },
  {
   "attachments": {},
   "cell_type": "markdown",
   "id": "28b9d4f5",
   "metadata": {},
   "source": [
    "### Construct DFNN model using Functional API  \n",
    "* slightly more complex interface\n",
    "* additional functionality"
   ]
  },
  {
   "cell_type": "code",
   "execution_count": 10,
   "id": "ef7835d5",
   "metadata": {},
   "outputs": [],
   "source": [
    "# ToDo #4: Now practice using the OO functional API of keras by constructing your own functional model, modelDFNN2.\n",
    "# To simplify the task, create this model so that it uses the same architecture as the sequential model.\n",
    "# For the final Dense layer use activation=\"softmax\"\n"
   ]
  },
  {
   "cell_type": "code",
   "execution_count": 11,
   "id": "4f9ad72f",
   "metadata": {},
   "outputs": [
    {
     "data": {
      "text/html": [
       "<pre style=\"white-space:pre;overflow-x:auto;line-height:normal;font-family:Menlo,'DejaVu Sans Mono',consolas,'Courier New',monospace\"><span style=\"font-weight: bold\">Model: \"functional_1\"</span>\n",
       "</pre>\n"
      ],
      "text/plain": [
       "\u001b[1mModel: \"functional_1\"\u001b[0m\n"
      ]
     },
     "metadata": {},
     "output_type": "display_data"
    },
    {
     "data": {
      "text/html": [
       "<pre style=\"white-space:pre;overflow-x:auto;line-height:normal;font-family:Menlo,'DejaVu Sans Mono',consolas,'Courier New',monospace\">┏━━━━━━━━━━━━━━━━━━━━━━━━━━━━━━━━━┳━━━━━━━━━━━━━━━━━━━━━━━━┳━━━━━━━━━━━━━━━┓\n",
       "┃<span style=\"font-weight: bold\"> Layer (type)                    </span>┃<span style=\"font-weight: bold\"> Output Shape           </span>┃<span style=\"font-weight: bold\">       Param # </span>┃\n",
       "┡━━━━━━━━━━━━━━━━━━━━━━━━━━━━━━━━━╇━━━━━━━━━━━━━━━━━━━━━━━━╇━━━━━━━━━━━━━━━┩\n",
       "│ input_layer (<span style=\"color: #0087ff; text-decoration-color: #0087ff\">InputLayer</span>)        │ (<span style=\"color: #00d7ff; text-decoration-color: #00d7ff\">None</span>, <span style=\"color: #00af00; text-decoration-color: #00af00\">784</span>)            │             <span style=\"color: #00af00; text-decoration-color: #00af00\">0</span> │\n",
       "├─────────────────────────────────┼────────────────────────┼───────────────┤\n",
       "│ first_layer (<span style=\"color: #0087ff; text-decoration-color: #0087ff\">Dense</span>)             │ (<span style=\"color: #00d7ff; text-decoration-color: #00d7ff\">None</span>, <span style=\"color: #00af00; text-decoration-color: #00af00\">512</span>)            │       <span style=\"color: #00af00; text-decoration-color: #00af00\">401,920</span> │\n",
       "├─────────────────────────────────┼────────────────────────┼───────────────┤\n",
       "│ second_layer (<span style=\"color: #0087ff; text-decoration-color: #0087ff\">Dense</span>)            │ (<span style=\"color: #00d7ff; text-decoration-color: #00d7ff\">None</span>, <span style=\"color: #00af00; text-decoration-color: #00af00\">256</span>)            │       <span style=\"color: #00af00; text-decoration-color: #00af00\">131,328</span> │\n",
       "├─────────────────────────────────┼────────────────────────┼───────────────┤\n",
       "│ dense (<span style=\"color: #0087ff; text-decoration-color: #0087ff\">Dense</span>)                   │ (<span style=\"color: #00d7ff; text-decoration-color: #00d7ff\">None</span>, <span style=\"color: #00af00; text-decoration-color: #00af00\">10</span>)             │         <span style=\"color: #00af00; text-decoration-color: #00af00\">2,570</span> │\n",
       "└─────────────────────────────────┴────────────────────────┴───────────────┘\n",
       "</pre>\n"
      ],
      "text/plain": [
       "┏━━━━━━━━━━━━━━━━━━━━━━━━━━━━━━━━━┳━━━━━━━━━━━━━━━━━━━━━━━━┳━━━━━━━━━━━━━━━┓\n",
       "┃\u001b[1m \u001b[0m\u001b[1mLayer (type)                   \u001b[0m\u001b[1m \u001b[0m┃\u001b[1m \u001b[0m\u001b[1mOutput Shape          \u001b[0m\u001b[1m \u001b[0m┃\u001b[1m \u001b[0m\u001b[1m      Param #\u001b[0m\u001b[1m \u001b[0m┃\n",
       "┡━━━━━━━━━━━━━━━━━━━━━━━━━━━━━━━━━╇━━━━━━━━━━━━━━━━━━━━━━━━╇━━━━━━━━━━━━━━━┩\n",
       "│ input_layer (\u001b[38;5;33mInputLayer\u001b[0m)        │ (\u001b[38;5;45mNone\u001b[0m, \u001b[38;5;34m784\u001b[0m)            │             \u001b[38;5;34m0\u001b[0m │\n",
       "├─────────────────────────────────┼────────────────────────┼───────────────┤\n",
       "│ first_layer (\u001b[38;5;33mDense\u001b[0m)             │ (\u001b[38;5;45mNone\u001b[0m, \u001b[38;5;34m512\u001b[0m)            │       \u001b[38;5;34m401,920\u001b[0m │\n",
       "├─────────────────────────────────┼────────────────────────┼───────────────┤\n",
       "│ second_layer (\u001b[38;5;33mDense\u001b[0m)            │ (\u001b[38;5;45mNone\u001b[0m, \u001b[38;5;34m256\u001b[0m)            │       \u001b[38;5;34m131,328\u001b[0m │\n",
       "├─────────────────────────────────┼────────────────────────┼───────────────┤\n",
       "│ dense (\u001b[38;5;33mDense\u001b[0m)                   │ (\u001b[38;5;45mNone\u001b[0m, \u001b[38;5;34m10\u001b[0m)             │         \u001b[38;5;34m2,570\u001b[0m │\n",
       "└─────────────────────────────────┴────────────────────────┴───────────────┘\n"
      ]
     },
     "metadata": {},
     "output_type": "display_data"
    },
    {
     "data": {
      "text/html": [
       "<pre style=\"white-space:pre;overflow-x:auto;line-height:normal;font-family:Menlo,'DejaVu Sans Mono',consolas,'Courier New',monospace\"><span style=\"font-weight: bold\"> Total params: </span><span style=\"color: #00af00; text-decoration-color: #00af00\">535,818</span> (2.04 MB)\n",
       "</pre>\n"
      ],
      "text/plain": [
       "\u001b[1m Total params: \u001b[0m\u001b[38;5;34m535,818\u001b[0m (2.04 MB)\n"
      ]
     },
     "metadata": {},
     "output_type": "display_data"
    },
    {
     "data": {
      "text/html": [
       "<pre style=\"white-space:pre;overflow-x:auto;line-height:normal;font-family:Menlo,'DejaVu Sans Mono',consolas,'Courier New',monospace\"><span style=\"font-weight: bold\"> Trainable params: </span><span style=\"color: #00af00; text-decoration-color: #00af00\">535,818</span> (2.04 MB)\n",
       "</pre>\n"
      ],
      "text/plain": [
       "\u001b[1m Trainable params: \u001b[0m\u001b[38;5;34m535,818\u001b[0m (2.04 MB)\n"
      ]
     },
     "metadata": {},
     "output_type": "display_data"
    },
    {
     "data": {
      "text/html": [
       "<pre style=\"white-space:pre;overflow-x:auto;line-height:normal;font-family:Menlo,'DejaVu Sans Mono',consolas,'Courier New',monospace\"><span style=\"font-weight: bold\"> Non-trainable params: </span><span style=\"color: #00af00; text-decoration-color: #00af00\">0</span> (0.00 B)\n",
       "</pre>\n"
      ],
      "text/plain": [
       "\u001b[1m Non-trainable params: \u001b[0m\u001b[38;5;34m0\u001b[0m (0.00 B)\n"
      ]
     },
     "metadata": {},
     "output_type": "display_data"
    }
   ],
   "source": [
    "# Functional API (A bit more flexible)\n",
    "inputs = keras.Input(shape=(784,))\n",
    "x = layers.Dense(512, activation=\"relu\", name=\"first_layer\")(inputs)\n",
    "x = layers.Dense(256, activation=\"relu\", name=\"second_layer\")(x)\n",
    "outputs = layers.Dense(10, activation=\"softmax\")(x)\n",
    "modelDFNN2 = keras.Model(inputs=inputs, outputs=outputs)\n",
    "\n",
    "modelDFNN2.summary()\n"
   ]
  },
  {
   "cell_type": "code",
   "execution_count": 12,
   "id": "0f23ea53",
   "metadata": {},
   "outputs": [],
   "source": [
    "# Now to gain experience invoking methods on objects you have created,\n",
    "# write code to compile(), fit() your new model on the training data.\n",
    "# Then write code to evaluate your new model on the test data.\n"
   ]
  },
  {
   "cell_type": "code",
   "execution_count": 13,
   "id": "7ab84e59",
   "metadata": {},
   "outputs": [
    {
     "name": "stdout",
     "output_type": "stream",
     "text": [
      "Epoch 1/25\n",
      "1875/1875 - 4s - 2ms/step - accuracy: 0.9441 - loss: 0.1827\n",
      "Epoch 2/25\n",
      "1875/1875 - 3s - 2ms/step - accuracy: 0.9755 - loss: 0.0780\n",
      "Epoch 3/25\n",
      "1875/1875 - 3s - 2ms/step - accuracy: 0.9826 - loss: 0.0548\n",
      "Epoch 4/25\n",
      "1875/1875 - 3s - 2ms/step - accuracy: 0.9872 - loss: 0.0392\n",
      "Epoch 5/25\n",
      "1875/1875 - 3s - 2ms/step - accuracy: 0.9893 - loss: 0.0341\n",
      "Epoch 6/25\n",
      "1875/1875 - 3s - 2ms/step - accuracy: 0.9914 - loss: 0.0280\n",
      "Epoch 7/25\n",
      "1875/1875 - 3s - 2ms/step - accuracy: 0.9923 - loss: 0.0240\n",
      "Epoch 8/25\n",
      "1875/1875 - 3s - 2ms/step - accuracy: 0.9934 - loss: 0.0215\n",
      "Epoch 9/25\n",
      "1875/1875 - 3s - 2ms/step - accuracy: 0.9941 - loss: 0.0183\n",
      "Epoch 10/25\n",
      "1875/1875 - 3s - 2ms/step - accuracy: 0.9947 - loss: 0.0167\n",
      "Epoch 11/25\n",
      "1875/1875 - 3s - 2ms/step - accuracy: 0.9943 - loss: 0.0182\n",
      "Epoch 12/25\n",
      "1875/1875 - 3s - 2ms/step - accuracy: 0.9957 - loss: 0.0139\n",
      "Epoch 13/25\n",
      "1875/1875 - 3s - 2ms/step - accuracy: 0.9951 - loss: 0.0160\n",
      "Epoch 14/25\n",
      "1875/1875 - 3s - 2ms/step - accuracy: 0.9968 - loss: 0.0103\n",
      "Epoch 15/25\n",
      "1875/1875 - 3s - 2ms/step - accuracy: 0.9957 - loss: 0.0149\n",
      "Epoch 16/25\n",
      "1875/1875 - 3s - 2ms/step - accuracy: 0.9969 - loss: 0.0113\n",
      "Epoch 17/25\n",
      "1875/1875 - 3s - 2ms/step - accuracy: 0.9966 - loss: 0.0120\n",
      "Epoch 18/25\n",
      "1875/1875 - 3s - 2ms/step - accuracy: 0.9973 - loss: 0.0106\n",
      "Epoch 19/25\n",
      "1875/1875 - 3s - 2ms/step - accuracy: 0.9968 - loss: 0.0114\n",
      "Epoch 20/25\n",
      "1875/1875 - 3s - 2ms/step - accuracy: 0.9969 - loss: 0.0110\n",
      "Epoch 21/25\n",
      "1875/1875 - 3s - 2ms/step - accuracy: 0.9973 - loss: 0.0101\n",
      "Epoch 22/25\n",
      "1875/1875 - 3s - 2ms/step - accuracy: 0.9972 - loss: 0.0112\n",
      "Epoch 23/25\n",
      "1875/1875 - 3s - 2ms/step - accuracy: 0.9976 - loss: 0.0097\n",
      "Epoch 24/25\n",
      "1875/1875 - 3s - 2ms/step - accuracy: 0.9970 - loss: 0.0120\n",
      "Epoch 25/25\n",
      "1875/1875 - 3s - 2ms/step - accuracy: 0.9981 - loss: 0.0071\n"
     ]
    },
    {
     "data": {
      "text/plain": [
       "<keras.src.callbacks.history.History at 0x2aac1ace7290>"
      ]
     },
     "execution_count": 13,
     "metadata": {},
     "output_type": "execute_result"
    }
   ],
   "source": [
    "modelDFNN2.compile(\n",
    "    loss=keras.losses.SparseCategoricalCrossentropy(from_logits=False),\n",
    "    optimizer=keras.optimizers.Adam(learning_rate=0.001),\n",
    "    metrics=[\"accuracy\"],\n",
    ")\n",
    "\n",
    "modelDFNN2.fit(x_train, y_train, batch_size=32, epochs=25, verbose=2)\n"
   ]
  },
  {
   "cell_type": "code",
   "execution_count": 14,
   "id": "07ae3065",
   "metadata": {},
   "outputs": [
    {
     "name": "stdout",
     "output_type": "stream",
     "text": [
      "313/313 - 1s - 4ms/step - accuracy: 0.9838 - loss: 0.1439\n"
     ]
    },
    {
     "data": {
      "text/plain": [
       "[0.1439041942358017, 0.9837999939918518]"
      ]
     },
     "execution_count": 14,
     "metadata": {},
     "output_type": "execute_result"
    }
   ],
   "source": [
    "modelDFNN2.evaluate(x_test, y_test, batch_size=32, verbose=2)\n"
   ]
  },
  {
   "cell_type": "code",
   "execution_count": 15,
   "id": "35993c43",
   "metadata": {},
   "outputs": [
    {
     "name": "stdout",
     "output_type": "stream",
     "text": [
      "Training Accuracy:  0.9980666637420654\n",
      "Training Loss:  0.007123987656086683\n",
      "Test Accuracy:  0.9837999939918518\n"
     ]
    }
   ],
   "source": [
    "# ToDo #5. Write down what train and test accuracy do you observe? How does it compare to the sequential model?\n",
    "print(\n",
    "    \"Training Accuracy: \",\n",
    "    modelDFNN2.history.history[\"accuracy\"][-1],\n",
    ")\n",
    "print(\"Training Loss: \", modelDFNN2.history.history[\"loss\"][-1])\n",
    "print(\n",
    "    \"Test Accuracy: \",\n",
    "    modelDFNN2.evaluate(x_test, y_test, batch_size=32, verbose=0)[1],\n",
    ")\n"
   ]
  },
  {
   "cell_type": "code",
   "execution_count": 18,
   "id": "7eaafd90",
   "metadata": {},
   "outputs": [
    {
     "data": {
      "text/html": [
       "<pre style=\"white-space:pre;overflow-x:auto;line-height:normal;font-family:Menlo,'DejaVu Sans Mono',consolas,'Courier New',monospace\"><span style=\"font-weight: bold\">Model: \"functional_3\"</span>\n",
       "</pre>\n"
      ],
      "text/plain": [
       "\u001b[1mModel: \"functional_3\"\u001b[0m\n"
      ]
     },
     "metadata": {},
     "output_type": "display_data"
    },
    {
     "data": {
      "text/html": [
       "<pre style=\"white-space:pre;overflow-x:auto;line-height:normal;font-family:Menlo,'DejaVu Sans Mono',consolas,'Courier New',monospace\">┏━━━━━━━━━━━━━━━━━━━━━━━━━━━━━━━━━┳━━━━━━━━━━━━━━━━━━━━━━━━┳━━━━━━━━━━━━━━━┓\n",
       "┃<span style=\"font-weight: bold\"> Layer (type)                    </span>┃<span style=\"font-weight: bold\"> Output Shape           </span>┃<span style=\"font-weight: bold\">       Param # </span>┃\n",
       "┡━━━━━━━━━━━━━━━━━━━━━━━━━━━━━━━━━╇━━━━━━━━━━━━━━━━━━━━━━━━╇━━━━━━━━━━━━━━━┩\n",
       "│ input_layer_2 (<span style=\"color: #0087ff; text-decoration-color: #0087ff\">InputLayer</span>)      │ (<span style=\"color: #00d7ff; text-decoration-color: #00d7ff\">None</span>, <span style=\"color: #00af00; text-decoration-color: #00af00\">784</span>)            │             <span style=\"color: #00af00; text-decoration-color: #00af00\">0</span> │\n",
       "├─────────────────────────────────┼────────────────────────┼───────────────┤\n",
       "│ first_dense (<span style=\"color: #0087ff; text-decoration-color: #0087ff\">Dense</span>)             │ (<span style=\"color: #00d7ff; text-decoration-color: #00d7ff\">None</span>, <span style=\"color: #00af00; text-decoration-color: #00af00\">256</span>)            │       <span style=\"color: #00af00; text-decoration-color: #00af00\">200,960</span> │\n",
       "├─────────────────────────────────┼────────────────────────┼───────────────┤\n",
       "│ second_dense (<span style=\"color: #0087ff; text-decoration-color: #0087ff\">Dense</span>)            │ (<span style=\"color: #00d7ff; text-decoration-color: #00d7ff\">None</span>, <span style=\"color: #00af00; text-decoration-color: #00af00\">256</span>)            │        <span style=\"color: #00af00; text-decoration-color: #00af00\">65,792</span> │\n",
       "├─────────────────────────────────┼────────────────────────┼───────────────┤\n",
       "│ third_dense (<span style=\"color: #0087ff; text-decoration-color: #0087ff\">Dense</span>)             │ (<span style=\"color: #00d7ff; text-decoration-color: #00d7ff\">None</span>, <span style=\"color: #00af00; text-decoration-color: #00af00\">256</span>)            │        <span style=\"color: #00af00; text-decoration-color: #00af00\">65,792</span> │\n",
       "├─────────────────────────────────┼────────────────────────┼───────────────┤\n",
       "│ dense_2 (<span style=\"color: #0087ff; text-decoration-color: #0087ff\">Dense</span>)                 │ (<span style=\"color: #00d7ff; text-decoration-color: #00d7ff\">None</span>, <span style=\"color: #00af00; text-decoration-color: #00af00\">10</span>)             │         <span style=\"color: #00af00; text-decoration-color: #00af00\">2,570</span> │\n",
       "└─────────────────────────────────┴────────────────────────┴───────────────┘\n",
       "</pre>\n"
      ],
      "text/plain": [
       "┏━━━━━━━━━━━━━━━━━━━━━━━━━━━━━━━━━┳━━━━━━━━━━━━━━━━━━━━━━━━┳━━━━━━━━━━━━━━━┓\n",
       "┃\u001b[1m \u001b[0m\u001b[1mLayer (type)                   \u001b[0m\u001b[1m \u001b[0m┃\u001b[1m \u001b[0m\u001b[1mOutput Shape          \u001b[0m\u001b[1m \u001b[0m┃\u001b[1m \u001b[0m\u001b[1m      Param #\u001b[0m\u001b[1m \u001b[0m┃\n",
       "┡━━━━━━━━━━━━━━━━━━━━━━━━━━━━━━━━━╇━━━━━━━━━━━━━━━━━━━━━━━━╇━━━━━━━━━━━━━━━┩\n",
       "│ input_layer_2 (\u001b[38;5;33mInputLayer\u001b[0m)      │ (\u001b[38;5;45mNone\u001b[0m, \u001b[38;5;34m784\u001b[0m)            │             \u001b[38;5;34m0\u001b[0m │\n",
       "├─────────────────────────────────┼────────────────────────┼───────────────┤\n",
       "│ first_dense (\u001b[38;5;33mDense\u001b[0m)             │ (\u001b[38;5;45mNone\u001b[0m, \u001b[38;5;34m256\u001b[0m)            │       \u001b[38;5;34m200,960\u001b[0m │\n",
       "├─────────────────────────────────┼────────────────────────┼───────────────┤\n",
       "│ second_dense (\u001b[38;5;33mDense\u001b[0m)            │ (\u001b[38;5;45mNone\u001b[0m, \u001b[38;5;34m256\u001b[0m)            │        \u001b[38;5;34m65,792\u001b[0m │\n",
       "├─────────────────────────────────┼────────────────────────┼───────────────┤\n",
       "│ third_dense (\u001b[38;5;33mDense\u001b[0m)             │ (\u001b[38;5;45mNone\u001b[0m, \u001b[38;5;34m256\u001b[0m)            │        \u001b[38;5;34m65,792\u001b[0m │\n",
       "├─────────────────────────────────┼────────────────────────┼───────────────┤\n",
       "│ dense_2 (\u001b[38;5;33mDense\u001b[0m)                 │ (\u001b[38;5;45mNone\u001b[0m, \u001b[38;5;34m10\u001b[0m)             │         \u001b[38;5;34m2,570\u001b[0m │\n",
       "└─────────────────────────────────┴────────────────────────┴───────────────┘\n"
      ]
     },
     "metadata": {},
     "output_type": "display_data"
    },
    {
     "data": {
      "text/html": [
       "<pre style=\"white-space:pre;overflow-x:auto;line-height:normal;font-family:Menlo,'DejaVu Sans Mono',consolas,'Courier New',monospace\"><span style=\"font-weight: bold\"> Total params: </span><span style=\"color: #00af00; text-decoration-color: #00af00\">335,114</span> (1.28 MB)\n",
       "</pre>\n"
      ],
      "text/plain": [
       "\u001b[1m Total params: \u001b[0m\u001b[38;5;34m335,114\u001b[0m (1.28 MB)\n"
      ]
     },
     "metadata": {},
     "output_type": "display_data"
    },
    {
     "data": {
      "text/html": [
       "<pre style=\"white-space:pre;overflow-x:auto;line-height:normal;font-family:Menlo,'DejaVu Sans Mono',consolas,'Courier New',monospace\"><span style=\"font-weight: bold\"> Trainable params: </span><span style=\"color: #00af00; text-decoration-color: #00af00\">335,114</span> (1.28 MB)\n",
       "</pre>\n"
      ],
      "text/plain": [
       "\u001b[1m Trainable params: \u001b[0m\u001b[38;5;34m335,114\u001b[0m (1.28 MB)\n"
      ]
     },
     "metadata": {},
     "output_type": "display_data"
    },
    {
     "data": {
      "text/html": [
       "<pre style=\"white-space:pre;overflow-x:auto;line-height:normal;font-family:Menlo,'DejaVu Sans Mono',consolas,'Courier New',monospace\"><span style=\"font-weight: bold\"> Non-trainable params: </span><span style=\"color: #00af00; text-decoration-color: #00af00\">0</span> (0.00 B)\n",
       "</pre>\n"
      ],
      "text/plain": [
       "\u001b[1m Non-trainable params: \u001b[0m\u001b[38;5;34m0\u001b[0m (0.00 B)\n"
      ]
     },
     "metadata": {},
     "output_type": "display_data"
    },
    {
     "name": "stdout",
     "output_type": "stream",
     "text": [
      "Epoch 1/25\n",
      "1875/1875 - 5s - 3ms/step - accuracy: 0.9383 - loss: 0.2028\n",
      "Epoch 2/25\n",
      "1875/1875 - 3s - 2ms/step - accuracy: 0.9724 - loss: 0.0899\n",
      "Epoch 3/25\n",
      "1875/1875 - 3s - 2ms/step - accuracy: 0.9796 - loss: 0.0666\n",
      "Epoch 4/25\n",
      "1875/1875 - 3s - 2ms/step - accuracy: 0.9846 - loss: 0.0503\n",
      "Epoch 5/25\n",
      "1875/1875 - 3s - 2ms/step - accuracy: 0.9872 - loss: 0.0415\n",
      "Epoch 6/25\n",
      "1875/1875 - 3s - 2ms/step - accuracy: 0.9891 - loss: 0.0351\n",
      "Epoch 7/25\n",
      "1875/1875 - 3s - 2ms/step - accuracy: 0.9898 - loss: 0.0320\n",
      "Epoch 8/25\n",
      "1875/1875 - 3s - 2ms/step - accuracy: 0.9911 - loss: 0.0279\n",
      "Epoch 9/25\n",
      "1875/1875 - 3s - 2ms/step - accuracy: 0.9927 - loss: 0.0239\n",
      "Epoch 10/25\n",
      "1875/1875 - 3s - 2ms/step - accuracy: 0.9919 - loss: 0.0255\n",
      "Epoch 11/25\n",
      "1875/1875 - 3s - 2ms/step - accuracy: 0.9940 - loss: 0.0194\n",
      "Epoch 12/25\n",
      "1875/1875 - 3s - 2ms/step - accuracy: 0.9944 - loss: 0.0180\n",
      "Epoch 13/25\n",
      "1875/1875 - 3s - 2ms/step - accuracy: 0.9943 - loss: 0.0197\n",
      "Epoch 14/25\n",
      "1875/1875 - 3s - 2ms/step - accuracy: 0.9955 - loss: 0.0150\n",
      "Epoch 15/25\n",
      "1875/1875 - 3s - 2ms/step - accuracy: 0.9949 - loss: 0.0180\n",
      "Epoch 16/25\n",
      "1875/1875 - 3s - 2ms/step - accuracy: 0.9959 - loss: 0.0149\n",
      "Epoch 17/25\n",
      "1875/1875 - 3s - 2ms/step - accuracy: 0.9959 - loss: 0.0156\n",
      "Epoch 18/25\n",
      "1875/1875 - 3s - 2ms/step - accuracy: 0.9952 - loss: 0.0171\n",
      "Epoch 19/25\n",
      "1875/1875 - 3s - 2ms/step - accuracy: 0.9962 - loss: 0.0146\n",
      "Epoch 20/25\n",
      "1875/1875 - 3s - 2ms/step - accuracy: 0.9960 - loss: 0.0153\n",
      "Epoch 21/25\n",
      "1875/1875 - 3s - 2ms/step - accuracy: 0.9971 - loss: 0.0109\n",
      "Epoch 22/25\n",
      "1875/1875 - 3s - 2ms/step - accuracy: 0.9962 - loss: 0.0150\n",
      "Epoch 23/25\n",
      "1875/1875 - 3s - 2ms/step - accuracy: 0.9968 - loss: 0.0117\n",
      "Epoch 24/25\n",
      "1875/1875 - 3s - 2ms/step - accuracy: 0.9966 - loss: 0.0131\n",
      "Epoch 25/25\n",
      "1875/1875 - 3s - 2ms/step - accuracy: 0.9970 - loss: 0.0112\n",
      "313/313 - 1s - 4ms/step - accuracy: 0.9797 - loss: 0.1494\n",
      "Training Accuracy:  0.996999979019165\n",
      "Training Loss:  0.01121409609913826\n",
      "Test Accuracy:  0.9797000288963318\n"
     ]
    }
   ],
   "source": [
    "# For fun: explore the architecture space by adding or removing layers from your model, retrain from scratch.\n",
    "# Learn how that impacts model performance. State of the art accuracy is around 99.97% .\n",
    "# You do not need to achieve that (nor is that expected here) but to give you an idea.\n",
    "\n",
    "# Define new model with more layers, smaller first layer\n",
    "inputs = keras.Input(shape=(784,))\n",
    "x = layers.Dense(256, activation=\"relu\", name=\"first_dense\")(inputs)\n",
    "x = layers.Dense(256, activation=\"relu\", name=\"second_dense\")(x)\n",
    "x = layers.Dense(256, activation=\"relu\", name=\"third_dense\")(x)\n",
    "outputs = layers.Dense(10, activation=\"softmax\", name=\"output\")(x)\n",
    "\n",
    "modelDFNN3 = keras.Model(inputs=inputs, outputs=outputs)\n",
    "modelDFNN3.summary()\n",
    "modelDFNN3.compile(\n",
    "    loss=keras.losses.SparseCategoricalCrossentropy(from_logits=False),\n",
    "    optimizer=keras.optimizers.Adam(learning_rate=0.001),\n",
    "    metrics=[\"accuracy\"],\n",
    ")\n",
    "modelDFNN3.fit(x_train, y_train, batch_size=32, epochs=25, verbose=2)\n",
    "modelDFNN3.evaluate(x_test, y_test, batch_size=32, verbose=2)\n",
    "print(\n",
    "    \"Training Accuracy: \",\n",
    "    modelDFNN3.history.history[\"accuracy\"][-1],\n",
    ")\n",
    "print(\"Training Loss: \", modelDFNN3.history.history[\"loss\"][-1])\n",
    "print(\n",
    "    \"Test Accuracy: \",\n",
    "    modelDFNN3.evaluate(x_test, y_test, batch_size=32, verbose=0)[1],\n",
    ")\n"
   ]
  }
 ],
 "metadata": {
  "kernelspec": {
   "display_name": "Python 3",
   "language": "python",
   "name": "python3"
  },
  "language_info": {
   "codemirror_mode": {
    "name": "ipython",
    "version": 3
   },
   "file_extension": ".py",
   "mimetype": "text/x-python",
   "name": "python",
   "nbconvert_exporter": "python",
   "pygments_lexer": "ipython3",
   "version": "3.12.10"
  }
 },
 "nbformat": 4,
 "nbformat_minor": 5
}
